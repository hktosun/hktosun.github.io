{
 "cells": [
  {
   "cell_type": "code",
   "execution_count": 54,
   "metadata": {},
   "outputs": [],
   "source": [
    "def contraction():\n",
    "    it = 0\n",
    "    dif = 1\n",
    "    while (dif > tol and it < 10000):\n",
    "        ev1 = P * np.log(np.exp(-c + beta * ev) + exp(- tr - c[0,0] + beta * ev[0,0]))\n",
    "        dif = (abs(ev1 - ev)).max()\n",
    "        ev = ev1\n",
    "        it = it + 1\n",
    "    return(ev)"
   ]
  },
  {
   "cell_type": "code",
   "execution_count": 55,
   "metadata": {
    "collapsed": true
   },
   "outputs": [],
   "source": [
    "def probs():\n",
    "    P = np.zeros((n,n))\n",
    "    for i in range(n-2):\n",
    "        P[i,i] = pi[0]\n",
    "        P[i,i+1] = pi[1]\n",
    "        P[i,i+2] = pi[2]\n",
    "    P[n-2,n-2] = pi[0]\n",
    "    P[n-2,n-1] = 1 - pi[0]\n",
    "    P[n-1,n-1] = 1\n",
    "    \n",
    "    return(P)"
   ]
  },
  {
   "cell_type": "code",
   "execution_count": 46,
   "metadata": {
    "collapsed": true
   },
   "outputs": [],
   "source": [
    "def P0x():\n",
    "    pk = 1/(1 + np.exp(c - beta * ev - tr - c[0,0] + beta * ev[0,0]))"
   ]
  },
  {
   "cell_type": "code",
   "execution_count": 58,
   "metadata": {},
   "outputs": [
    {
     "data": {
      "text/plain": [
       "array([[ 0.35968523,  0.62590799,  0.01440678,  0.        ,  0.        ],\n",
       "       [ 0.        ,  0.35968523,  0.62590799,  0.01440678,  0.        ],\n",
       "       [ 0.        ,  0.        ,  0.35968523,  0.62590799,  0.01440678],\n",
       "       [ 0.        ,  0.        ,  0.        ,  0.35968523,  0.64031477],\n",
       "       [ 0.        ,  0.        ,  0.        ,  0.        ,  1.        ]])"
      ]
     },
     "execution_count": 58,
     "metadata": {},
     "output_type": "execute_result"
    }
   ],
   "source": [
    "import numpy as np\n",
    "\n",
    "tol = 1e-6\n",
    "n = 90\n",
    "pi0 = 0.35968523 \n",
    "pi1 = 0.62590799\n",
    "pi2 = 1 - pi0 - pi1\n",
    "pi = [pi0,pi1,pi2]\n",
    "beta = 0.999\n",
    "P = probs()\n"
   ]
  },
  {
   "cell_type": "code",
   "execution_count": null,
   "metadata": {
    "collapsed": true
   },
   "outputs": [],
   "source": []
  }
 ],
 "metadata": {
  "kernelspec": {
   "display_name": "Python 3",
   "language": "python",
   "name": "python3"
  },
  "language_info": {
   "codemirror_mode": {
    "name": "ipython",
    "version": 3
   },
   "file_extension": ".py",
   "mimetype": "text/x-python",
   "name": "python",
   "nbconvert_exporter": "python",
   "pygments_lexer": "ipython3",
   "version": "3.6.1"
  }
 },
 "nbformat": 4,
 "nbformat_minor": 2
}
