{
 "cells": [
  {
   "cell_type": "markdown",
   "metadata": {},
   "source": [
    "# HW 4: Replication of Rust (1987)\n",
    "\n",
    "<h3> Hasan K. Tosun, December 2017 </h3>"
   ]
  },
  {
   "cell_type": "markdown",
   "metadata": {},
   "source": [
    "In this homework, we are asked to estimate the model described in Rust (1987). However, by using a different method than the one in the original paper. \n",
    "\n",
    "I'll use the method described in the paper first. Then, I'll move on to the \"stata\" estimator. (I don't know why they name it this way.)\n",
    "\n",
    "Before going into detail, let me sketch what I'm going to do.\n",
    "\n",
    "I'll use the <a href=\"http://www.github.com/hktosun/hktosun.github.io/blob/master/coursework/IO/ECON8602/stata_rust_data.dta\">data</a> provided by Prof. Amil Petrin. \n",
    "\n",
    "In the first section, I'll do the following:\n",
    "1. Pick a functional form for the cost function.\n",
    "2. Estimate $p(x'\\mid x,d)$ by using the data.\n",
    "3. Find the fixed point of the contraction for $EV_\\theta$.\n",
    "4. Find $P(d\\mid x,\\theta)$ by using $EV_\\theta$.\n",
    "5. Calculate the likelihood function.\n",
    "6. Find parameter values $\\theta$ that maximizes log-likelihood function.\n",
    "\n",
    "In the second section, I'll follow these steps:\n",
    "1. Estimate $p(x'\\mid x,d)$ by using the data.\n",
    "2. Estimate $p(d\\mid x)$.\n",
    "3. Iterate on the fixed point relation to get $v(x,1)$.\n",
    "4. Use $v(x,1)$ to get $v(x,d)$.\n",
    "5. Find $u(x,d)$ by using $v(x,d)$.\n",
    "\n",
    "Let's get started."
   ]
  },
  {
   "cell_type": "markdown",
   "metadata": {},
   "source": [
    "## Part 1: Estimation of Parameters by Maximizing Partial Loglikelihood"
   ]
  },
  {
   "cell_type": "markdown",
   "metadata": {},
   "source": [
    "Step 0: Import the necessary packages."
   ]
  },
  {
   "cell_type": "code",
   "execution_count": 563,
   "metadata": {
    "collapsed": true
   },
   "outputs": [],
   "source": [
    "import numpy as np\n",
    "import pandas as pd\n",
    "from scipy.optimize import minimize\n",
    "from numba import jit\n",
    "import time\n",
    "\n",
    "data = pd.read_csv(\"rust.csv\")\n",
    "\n",
    "cts = data['frag'].value_counts(sort = False)\n",
    "nrow = data.shape[0]\n",
    "pi = cts/nrow\n",
    "P = probs()\n",
    "\n",
    "beta = 0.9999\n",
    "\n",
    "n = 90\n",
    "x = np.array(range(1,n+1))\n",
    "x.shape = (n,1)\n",
    "\n",
    "tol = 1e-6\n",
    " "
   ]
  },
  {
   "cell_type": "markdown",
   "metadata": {},
   "source": [
    "Step 1: Define a function that will calculate the cost of operating in state $x$, given the structural parameter $\\theta_1$. I pick the linear formulation as the functional form for the cost."
   ]
  },
  {
   "cell_type": "code",
   "execution_count": 552,
   "metadata": {
    "collapsed": true
   },
   "outputs": [],
   "source": [
    "@jit\n",
    "def calc_cost(theta1):\n",
    "    c = theta1 * x\n",
    "    return(c)"
   ]
  },
  {
   "cell_type": "markdown",
   "metadata": {},
   "source": [
    "Step 2: Define a function that will construct the probability transition matrix $P$. This is an $n\\times n$ matrix, governing the motion of $x$'s. "
   ]
  },
  {
   "cell_type": "code",
   "execution_count": 562,
   "metadata": {
    "collapsed": true
   },
   "outputs": [],
   "source": [
    "@jit\n",
    "def probs():\n",
    "    P = np.zeros((n,n))\n",
    "    for i in range(n-2):\n",
    "        P[i,i] = pi[0]\n",
    "        P[i,i+1] = pi[1]\n",
    "        P[i,i+2] = pi[2]\n",
    "    P[n-2,n-2] = pi[0]\n",
    "    P[n-2,n-1] = 1 - pi[0]\n",
    "    P[n-1,n-1] = 1\n",
    "    return(P)"
   ]
  },
  {
   "cell_type": "markdown",
   "metadata": {},
   "source": [
    "Step 3: Define the contraction function, given the structural parameters $\\theta_1$ and $tr$, total cost for replacement."
   ]
  },
  {
   "cell_type": "code",
   "execution_count": 553,
   "metadata": {
    "collapsed": true
   },
   "outputs": [],
   "source": [
    "@jit\n",
    "def inside_contract(theta1,tr,ev):\n",
    "    c = calc_cost(theta1)\n",
    "    temp = np.exp(-c + beta * ev - ev) + np.exp(-tr - c[0,0] + beta * ev[0,0] - ev)\n",
    "    return (np.log(temp) + ev)\n",
    "\n",
    "@jit\n",
    "def contraction(theta1, tr):\n",
    "    dif = 1\n",
    "    ev = np.zeros((n,1))\n",
    "    while (dif > tol):\n",
    "        ev1 = P @ inside_contract(theta1,tr,ev)\n",
    "        dif = (abs(ev1-ev)).max()\n",
    "        ev = ev1\n",
    "    return(ev)"
   ]
  },
  {
   "cell_type": "markdown",
   "metadata": {},
   "source": [
    "Step 4: Calculate $P(0\\mid x; \\theta_1,tr)$."
   ]
  },
  {
   "cell_type": "code",
   "execution_count": 554,
   "metadata": {
    "collapsed": true
   },
   "outputs": [],
   "source": [
    "@jit\n",
    "def P0x(theta1, tr):\n",
    "    c = calc_cost(theta1)\n",
    "    ev = contraction(theta1, tr)\n",
    "    pk = 1/(1 + np.exp(c - beta * ev - tr - c[0,0] + beta * ev[0,0]))\n",
    "    return(pk)"
   ]
  },
  {
   "cell_type": "markdown",
   "metadata": {},
   "source": [
    "Step 5: Calculate the partial loglikelihood function:\n",
    "$$\n",
    "\\begin{equation}\n",
    "LL(d,x;\\theta_1,tr) = \\sum_{m=1}^M \\sum_{t=1}^T \\log P(d_{mt}\\mid x_{mt};\\theta_1,tr)\n",
    "\\end{equation}\n",
    "        $$"
   ]
  },
  {
   "cell_type": "code",
   "execution_count": 555,
   "metadata": {
    "collapsed": true
   },
   "outputs": [],
   "source": [
    "@jit\n",
    "def part_likelihood(params):\n",
    "    theta = params[0]\n",
    "    tr = params[1]\n",
    "    #print(\"{}  {}\".format(theta,tr))\n",
    "    temp = 0\n",
    "    p0x = P0x(theta, tr)\n",
    "    for j in range(8260):\n",
    "        x_ind = data.bxt[j] - 1\n",
    "        i = data.i[j]\n",
    "        temp = temp + np.log(p0x[x_ind]*(i==0) + (1-p0x[x_ind])*(i==1)+0.0000001)\n",
    "    temp = temp[0,]\n",
    "    #print(\"{}\".format(temp))\n",
    "    return(-temp)"
   ]
  },
  {
   "cell_type": "markdown",
   "metadata": {},
   "source": [
    "Step 6: Maximization of Partial Loglikelihood Function\n",
    "\n",
    "$$\n",
    "\\begin{equation}\n",
    "\\max_{\\theta_1,tr} LL(d,x;\\theta_1,tr)\n",
    "\\end{equation}\n",
    "$$"
   ]
  },
  {
   "cell_type": "code",
   "execution_count": 557,
   "metadata": {},
   "outputs": [],
   "source": [
    "t = time.time()\n",
    "init = np.array([0.001,10])\n",
    "bnds = ((0.0001, 0.1), (1, 40))\n",
    "soln = minimize(part_likelihood, init, method=\"L-BFGS-B\", bounds = bnds, options={'disp': True})\n",
    "elapsed_time = time.time()-t"
   ]
  },
  {
   "cell_type": "code",
   "execution_count": 560,
   "metadata": {},
   "outputs": [
    {
     "name": "stdout",
     "output_type": "stream",
     "text": [
      "Time elapsed:\t 345.4575068950653\n",
      "Loglikelihood:\t -299.18982815\n",
      "theta1:\t\t 0.0026573741074\n",
      "TR:\t\t 9.80632865721\n"
     ]
    }
   ],
   "source": [
    "print(\"Time elapsed:\\t\",elapsed_time)\n",
    "print(\"Loglikelihood:\\t\", -soln.fun)\n",
    "print(\"theta1:\\t\\t\", soln.x[0])\n",
    "print(\"TR:\\t\\t\",soln.x[1])"
   ]
  },
  {
   "cell_type": "code",
   "execution_count": 561,
   "metadata": {},
   "outputs": [
    {
     "data": {
      "text/plain": [
       "b'CONVERGENCE: REL_REDUCTION_OF_F_<=_FACTR*EPSMCH'"
      ]
     },
     "execution_count": 561,
     "metadata": {},
     "output_type": "execute_result"
    }
   ],
   "source": [
    "soln.message"
   ]
  }
 ],
 "metadata": {
  "kernelspec": {
   "display_name": "Python 3",
   "language": "python",
   "name": "python3"
  },
  "language_info": {
   "codemirror_mode": {
    "name": "ipython",
    "version": 3
   },
   "file_extension": ".py",
   "mimetype": "text/x-python",
   "name": "python",
   "nbconvert_exporter": "python",
   "pygments_lexer": "ipython3",
   "version": "3.6.1"
  }
 },
 "nbformat": 4,
 "nbformat_minor": 2
}
