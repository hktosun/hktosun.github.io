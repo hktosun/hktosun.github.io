{
 "cells": [
  {
   "cell_type": "raw",
   "metadata": {
    "collapsed": true
   },
   "source": [
    "<script>\n",
    "  function code_toggle() {\n",
    "    if (code_shown){\n",
    "      $('div.input').show('500');\n",
    "      $('#toggleButton').val('Hide Code')\n",
    "    } else {\n",
    "      $('div.input').hide('500');\n",
    "      $('#toggleButton').val('Show Code')\n",
    "    }\n",
    "    code_shown = !code_shown\n",
    "  }\n",
    "\n",
    "  $( document ).ready(function(){\n",
    "    code_shown=true;\n",
    "    $('div.input').show()\n",
    "  });\n",
    "</script>\n",
    "<form action=\"javascript:code_toggle()\"><input type=\"submit\" id=\"toggleButton\" value=\"Hide Code\"></form>"
   ]
  },
  {
   "cell_type": "markdown",
   "metadata": {},
   "source": [
    "<center>\n",
    "<h1> Homework 2: Replication of Berry, Levinsohn & Pakes (1995) </h1>\n",
    "<h3> Hasan K. Tosun, 12/08/2017   </h3>\n",
    "</center>"
   ]
  },
  {
   "cell_type": "markdown",
   "metadata": {},
   "source": [
    "In this homework, we are going to replicate \"Automobile Prices in Market Equilibrium\" paper by Berry, Levinsohn and Pakes (1995, Econometrica) [BLP hereafter].\n",
    "\n",
    "We will use the <a href=\"https://www.dropbox.com/s/5msdz1ip3azf5gt/cardata.txt?dl=0\">data</a> provided by Prof. Amil Petrin. \n",
    "\n",
    "We will use <b>R</b> and <b>Python</b> for this homework.\n",
    "\n",
    "Let's get started.\n",
    "\n",
    "<h1> Part 1: Some Basics </h1>\n",
    "\n",
    "Step 0: Import the necessary Python packages "
   ]
  },
  {
   "cell_type": "markdown",
   "metadata": {},
   "source": []
  },
  {
   "cell_type": "code",
   "execution_count": null,
   "metadata": {
    "collapsed": true
   },
   "outputs": [],
   "source": []
  }
 ],
 "metadata": {
  "kernelspec": {
   "display_name": "Python 3",
   "language": "python",
   "name": "python3"
  },
  "language_info": {
   "codemirror_mode": {
    "name": "ipython",
    "version": 3
   },
   "file_extension": ".py",
   "mimetype": "text/x-python",
   "name": "python",
   "nbconvert_exporter": "python",
   "pygments_lexer": "ipython3",
   "version": "3.6.1"
  }
 },
 "nbformat": 4,
 "nbformat_minor": 2
}
